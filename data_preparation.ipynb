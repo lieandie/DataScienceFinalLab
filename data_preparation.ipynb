{
 "cells": [
  {
   "cell_type": "code",
   "execution_count": 1,
   "metadata": {},
   "outputs": [],
   "source": [
    "import pandas as pd"
   ]
  },
  {
   "cell_type": "code",
   "execution_count": 2,
   "metadata": {},
   "outputs": [
    {
     "name": "stderr",
     "output_type": "stream",
     "text": [
      "/home/lieandie/python/environments/jupiter/lib/python3.6/site-packages/IPython/core/interactiveshell.py:3020: DtypeWarning: Columns (14,15) have mixed types. Specify dtype option on import or set low_memory=False.\n",
      "  interactivity=interactivity, compiler=compiler, result=result)\n"
     ]
    }
   ],
   "source": [
    "dataset = pd.read_csv(\"dataset.csv\")"
   ]
  },
  {
   "cell_type": "code",
   "execution_count": 6,
   "metadata": {},
   "outputs": [
    {
     "name": "stdout",
     "output_type": "stream",
     "text": [
      "<class 'pandas.core.frame.DataFrame'>\n",
      "RangeIndex: 198453 entries, 0 to 198452\n",
      "Data columns (total 19 columns):\n",
      "loan_type                         198453 non-null object\n",
      "loan_purpose                      198453 non-null object\n",
      "loan_amount_ink                   198453 non-null int64\n",
      "preapproval                       198453 non-null object\n",
      "action_type                       198453 non-null object\n",
      "county_name                       198453 non-null object\n",
      "applicant_ethnicity               198453 non-null object\n",
      "co_applicant_ethnicity            198453 non-null int64\n",
      "applicant_race_1                  198453 non-null object\n",
      "applicant_sex                     198453 non-null object\n",
      "applicant_income_ink              198453 non-null object\n",
      "rate_spread                       198453 non-null object\n",
      "hoepa_status                      198453 non-null int64\n",
      "lien_status                       198453 non-null object\n",
      "minority_population_pct           198453 non-null object\n",
      "hud_median_family_income          198453 non-null object\n",
      "tract_to_msamd_income_pct         198453 non-null object\n",
      "number_of_owner_occupied_units    198453 non-null object\n",
      "state_name                        198453 non-null object\n",
      "dtypes: int64(3), object(16)\n",
      "memory usage: 28.8+ MB\n"
     ]
    }
   ],
   "source": [
    "dataset.info()"
   ]
  },
  {
   "cell_type": "code",
   "execution_count": 16,
   "metadata": {
    "scrolled": true
   },
   "outputs": [
    {
     "data": {
      "text/html": [
       "<div>\n",
       "<style scoped>\n",
       "    .dataframe tbody tr th:only-of-type {\n",
       "        vertical-align: middle;\n",
       "    }\n",
       "\n",
       "    .dataframe tbody tr th {\n",
       "        vertical-align: top;\n",
       "    }\n",
       "\n",
       "    .dataframe thead th {\n",
       "        text-align: right;\n",
       "    }\n",
       "</style>\n",
       "<table border=\"1\" class=\"dataframe\">\n",
       "  <thead>\n",
       "    <tr style=\"text-align: right;\">\n",
       "      <th></th>\n",
       "      <th>loan_type</th>\n",
       "      <th>loan_purpose</th>\n",
       "      <th>loan_amount_ink</th>\n",
       "      <th>preapproval</th>\n",
       "      <th>action_type</th>\n",
       "      <th>county_name</th>\n",
       "      <th>applicant_ethnicity</th>\n",
       "      <th>co_applicant_ethnicity</th>\n",
       "      <th>applicant_race_1</th>\n",
       "      <th>applicant_sex</th>\n",
       "      <th>applicant_income_ink</th>\n",
       "      <th>rate_spread</th>\n",
       "      <th>hoepa_status</th>\n",
       "      <th>lien_status</th>\n",
       "      <th>minority_population_pct</th>\n",
       "      <th>hud_median_family_income</th>\n",
       "      <th>tract_to_msamd_income_pct</th>\n",
       "      <th>number_of_owner_occupied_units</th>\n",
       "      <th>state_name</th>\n",
       "    </tr>\n",
       "  </thead>\n",
       "  <tbody>\n",
       "    <tr>\n",
       "      <th>0</th>\n",
       "      <td>Conventional</td>\n",
       "      <td>Refinancing</td>\n",
       "      <td>82</td>\n",
       "      <td>Not applicable</td>\n",
       "      <td>Withdrawn</td>\n",
       "      <td>Mohave</td>\n",
       "      <td>No Info</td>\n",
       "      <td>3</td>\n",
       "      <td>White</td>\n",
       "      <td>Male</td>\n",
       "      <td>71.0</td>\n",
       "      <td>0.0</td>\n",
       "      <td>2</td>\n",
       "      <td>First lien</td>\n",
       "      <td>18.79</td>\n",
       "      <td>47600.0</td>\n",
       "      <td>91.66</td>\n",
       "      <td>1386.0</td>\n",
       "      <td>Arizona</td>\n",
       "    </tr>\n",
       "    <tr>\n",
       "      <th>1</th>\n",
       "      <td>Conventional</td>\n",
       "      <td>Refinancing</td>\n",
       "      <td>133</td>\n",
       "      <td>Not applicable</td>\n",
       "      <td>Denied</td>\n",
       "      <td>Mohave</td>\n",
       "      <td>Non Hispanic.Latino</td>\n",
       "      <td>2</td>\n",
       "      <td>White</td>\n",
       "      <td>Male</td>\n",
       "      <td>44.0</td>\n",
       "      <td>0.0</td>\n",
       "      <td>2</td>\n",
       "      <td>First lien</td>\n",
       "      <td>18.09</td>\n",
       "      <td>47600.0</td>\n",
       "      <td>104.45</td>\n",
       "      <td>1905.0</td>\n",
       "      <td>Arizona</td>\n",
       "    </tr>\n",
       "    <tr>\n",
       "      <th>2</th>\n",
       "      <td>Conventional</td>\n",
       "      <td>Refinancing</td>\n",
       "      <td>109</td>\n",
       "      <td>Not applicable</td>\n",
       "      <td>Denied</td>\n",
       "      <td>Mohave</td>\n",
       "      <td>Non Hispanic.Latino</td>\n",
       "      <td>2</td>\n",
       "      <td>White</td>\n",
       "      <td>Male</td>\n",
       "      <td>65.0</td>\n",
       "      <td>0.0</td>\n",
       "      <td>2</td>\n",
       "      <td>First lien</td>\n",
       "      <td>8.25</td>\n",
       "      <td>47600.0</td>\n",
       "      <td>124.75</td>\n",
       "      <td>1642.0</td>\n",
       "      <td>Arizona</td>\n",
       "    </tr>\n",
       "    <tr>\n",
       "      <th>3</th>\n",
       "      <td>Conventional</td>\n",
       "      <td>Refinancing</td>\n",
       "      <td>149</td>\n",
       "      <td>Not applicable</td>\n",
       "      <td>Denied</td>\n",
       "      <td>Mohave</td>\n",
       "      <td>Non Hispanic.Latino</td>\n",
       "      <td>5</td>\n",
       "      <td>White</td>\n",
       "      <td>Male</td>\n",
       "      <td>72.0</td>\n",
       "      <td>0.0</td>\n",
       "      <td>2</td>\n",
       "      <td>First lien</td>\n",
       "      <td>13.48</td>\n",
       "      <td>47600.0</td>\n",
       "      <td>121.44</td>\n",
       "      <td>2968.0</td>\n",
       "      <td>Arizona</td>\n",
       "    </tr>\n",
       "    <tr>\n",
       "      <th>4</th>\n",
       "      <td>Conventional</td>\n",
       "      <td>Refinancing</td>\n",
       "      <td>60</td>\n",
       "      <td>Not applicable</td>\n",
       "      <td>Withdrawn</td>\n",
       "      <td>Mohave</td>\n",
       "      <td>Non Hispanic.Latino</td>\n",
       "      <td>5</td>\n",
       "      <td>White</td>\n",
       "      <td>Female</td>\n",
       "      <td>24.0</td>\n",
       "      <td>0.0</td>\n",
       "      <td>2</td>\n",
       "      <td>First lien</td>\n",
       "      <td>27.03</td>\n",
       "      <td>47600.0</td>\n",
       "      <td>96.16</td>\n",
       "      <td>1800.0</td>\n",
       "      <td>Arizona</td>\n",
       "    </tr>\n",
       "  </tbody>\n",
       "</table>\n",
       "</div>"
      ],
      "text/plain": [
       "      loan_type loan_purpose  loan_amount_ink     preapproval action_type  \\\n",
       "0  Conventional  Refinancing               82  Not applicable   Withdrawn   \n",
       "1  Conventional  Refinancing              133  Not applicable      Denied   \n",
       "2  Conventional  Refinancing              109  Not applicable      Denied   \n",
       "3  Conventional  Refinancing              149  Not applicable      Denied   \n",
       "4  Conventional  Refinancing               60  Not applicable   Withdrawn   \n",
       "\n",
       "  county_name  applicant_ethnicity  co_applicant_ethnicity applicant_race_1  \\\n",
       "0      Mohave              No Info                       3            White   \n",
       "1      Mohave  Non Hispanic.Latino                       2            White   \n",
       "2      Mohave  Non Hispanic.Latino                       2            White   \n",
       "3      Mohave  Non Hispanic.Latino                       5            White   \n",
       "4      Mohave  Non Hispanic.Latino                       5            White   \n",
       "\n",
       "  applicant_sex  applicant_income_ink  rate_spread  hoepa_status lien_status  \\\n",
       "0          Male                  71.0          0.0             2  First lien   \n",
       "1          Male                  44.0          0.0             2  First lien   \n",
       "2          Male                  65.0          0.0             2  First lien   \n",
       "3          Male                  72.0          0.0             2  First lien   \n",
       "4        Female                  24.0          0.0             2  First lien   \n",
       "\n",
       "   minority_population_pct  hud_median_family_income  \\\n",
       "0                    18.79                   47600.0   \n",
       "1                    18.09                   47600.0   \n",
       "2                     8.25                   47600.0   \n",
       "3                    13.48                   47600.0   \n",
       "4                    27.03                   47600.0   \n",
       "\n",
       "   tract_to_msamd_income_pct  number_of_owner_occupied_units state_name  \n",
       "0                      91.66                          1386.0    Arizona  \n",
       "1                     104.45                          1905.0    Arizona  \n",
       "2                     124.75                          1642.0    Arizona  \n",
       "3                     121.44                          2968.0    Arizona  \n",
       "4                      96.16                          1800.0    Arizona  "
      ]
     },
     "execution_count": 16,
     "metadata": {},
     "output_type": "execute_result"
    }
   ],
   "source": [
    "dataset.head()"
   ]
  },
  {
   "cell_type": "code",
   "execution_count": 9,
   "metadata": {},
   "outputs": [],
   "source": [
    "dataset[\"loan_amount_ink\"] = pd.to_numeric(dataset[\"loan_amount_ink\"], errors = \"coerce\")\n",
    "dataset[\"co_applicant_ethnicity\"] = pd.to_numeric(dataset[\"co_applicant_ethnicity\"], errors = \"coerce\")\n",
    "dataset[\"applicant_income_ink\"] = pd.to_numeric(dataset[\"applicant_income_ink\"], errors = \"coerce\")\n",
    "dataset[\"rate_spread\"] = pd.to_numeric(dataset[\"rate_spread\"], errors = \"coerce\")\n",
    "dataset[\"minority_population_pct\"] = pd.to_numeric(dataset[\"minority_population_pct\"], errors = \"coerce\")\n",
    "dataset[\"hud_median_family_income\"] = pd.to_numeric(dataset[\"hud_median_family_income\"], errors = \"coerce\")\n",
    "dataset[\"tract_to_msamd_income_pct\"] = pd.to_numeric(dataset[\"tract_to_msamd_income_pct\"], errors = \"coerce\")\n",
    "dataset[\"number_of_owner_occupied_units\"] = pd.to_numeric(dataset[\"number_of_owner_occupied_units\"], errors = \"coerce\")"
   ]
  },
  {
   "cell_type": "code",
   "execution_count": 15,
   "metadata": {
    "scrolled": true
   },
   "outputs": [],
   "source": [
    "dataset = dataset.fillna(0)"
   ]
  },
  {
   "cell_type": "code",
   "execution_count": 43,
   "metadata": {
    "scrolled": true
   },
   "outputs": [
    {
     "name": "stdout",
     "output_type": "stream",
     "text": [
      "Data fill rate\n",
      "rate_spread:  0.008027089537573128\n",
      "co_applicant_ethnicity:  1.0\n",
      "applicant_income_ink:  0.9107244536489748\n",
      "loan_amount_ink:  1.0\n",
      "minority_population_pct:  0.9993600499866467\n",
      "hud_median_family_income:  0.999375166916096\n",
      "tract_to_msamd_income_pct:  0.9992088806921539\n",
      "number_of_owner_occupied_units:  0.9991081011624918\n"
     ]
    }
   ],
   "source": [
    "print (\"Data fill rate\")\n",
    "print (\"rate_spread: \", dataset[dataset[\"rate_spread\"] > 0][\"rate_spread\"].count() / dataset[\"rate_spread\"].count())\n",
    "print (\"co_applicant_ethnicity: \", dataset[dataset[\"co_applicant_ethnicity\"] > 0][\"co_applicant_ethnicity\"].count() / dataset[\"co_applicant_ethnicity\"].count()) \n",
    "print (\"applicant_income_ink: \", dataset[dataset[\"applicant_income_ink\"] > 0][\"applicant_income_ink\"].count() / dataset[\"applicant_income_ink\"].count()) \n",
    "print (\"loan_amount_ink: \", dataset[dataset[\"loan_amount_ink\"] > 0][\"loan_amount_ink\"].count() / dataset[\"loan_amount_ink\"].count()) \n",
    "print (\"minority_population_pct: \", dataset[dataset[\"minority_population_pct\"] > 0][\"minority_population_pct\"].count() / dataset[\"minority_population_pct\"].count())\n",
    "print (\"hud_median_family_income: \", dataset[dataset[\"hud_median_family_income\"] > 0][\"hud_median_family_income\"].count() / dataset[\"hud_median_family_income\"].count())\n",
    "print (\"tract_to_msamd_income_pct: \", dataset[dataset[\"tract_to_msamd_income_pct\"] > 0][\"tract_to_msamd_income_pct\"].count() / dataset[\"tract_to_msamd_income_pct\"].count()) \n",
    "print (\"number_of_owner_occupied_units: \", dataset[dataset[\"number_of_owner_occupied_units\"] > 0][\"number_of_owner_occupied_units\"].count() / dataset[\"number_of_owner_occupied_units\"].count()) "
   ]
  },
  {
   "cell_type": "code",
   "execution_count": null,
   "metadata": {},
   "outputs": [],
   "source": [
    "dataset.to_csv(\"const_dataset.csv\", sep=',')"
   ]
  }
 ],
 "metadata": {
  "kernelspec": {
   "display_name": "Python 3",
   "language": "python",
   "name": "python3"
  },
  "language_info": {
   "codemirror_mode": {
    "name": "ipython",
    "version": 3
   },
   "file_extension": ".py",
   "mimetype": "text/x-python",
   "name": "python",
   "nbconvert_exporter": "python",
   "pygments_lexer": "ipython3",
   "version": "3.6.7"
  },
  "toc": {
   "base_numbering": 1,
   "nav_menu": {},
   "number_sections": true,
   "sideBar": true,
   "skip_h1_title": false,
   "title_cell": "Table of Contents",
   "title_sidebar": "Contents",
   "toc_cell": false,
   "toc_position": {},
   "toc_section_display": true,
   "toc_window_display": false
  },
  "varInspector": {
   "cols": {
    "lenName": 16,
    "lenType": 16,
    "lenVar": 40
   },
   "kernels_config": {
    "python": {
     "delete_cmd_postfix": "",
     "delete_cmd_prefix": "del ",
     "library": "var_list.py",
     "varRefreshCmd": "print(var_dic_list())"
    },
    "r": {
     "delete_cmd_postfix": ") ",
     "delete_cmd_prefix": "rm(",
     "library": "var_list.r",
     "varRefreshCmd": "cat(var_dic_list()) "
    }
   },
   "types_to_exclude": [
    "module",
    "function",
    "builtin_function_or_method",
    "instance",
    "_Feature"
   ],
   "window_display": false
  }
 },
 "nbformat": 4,
 "nbformat_minor": 1
}
